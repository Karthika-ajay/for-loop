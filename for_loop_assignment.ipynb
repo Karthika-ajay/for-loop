{
  "nbformat": 4,
  "nbformat_minor": 0,
  "metadata": {
    "colab": {
      "provenance": []
    },
    "kernelspec": {
      "name": "python3",
      "display_name": "Python 3"
    },
    "language_info": {
      "name": "python"
    }
  },
  "cells": [
    {
      "cell_type": "code",
      "execution_count": null,
      "metadata": {
        "colab": {
          "base_uri": "https://localhost:8080/"
        },
        "id": "flqI6o2avfgn",
        "outputId": "239d6bed-1521-411a-b69a-9793e91623aa"
      },
      "outputs": [
        {
          "output_type": "stream",
          "name": "stdout",
          "text": [
            "0\n",
            "1\n",
            "3\n",
            "6\n",
            "10\n",
            "15\n",
            "21\n",
            "28\n",
            "36\n",
            "45\n",
            "55\n",
            "66\n",
            "78\n",
            "91\n",
            "105\n",
            "120\n",
            "136\n",
            "153\n",
            "171\n",
            "190\n",
            "210\n",
            "231\n",
            "253\n",
            "276\n",
            "300\n",
            "325\n",
            "351\n",
            "378\n",
            "406\n",
            "435\n",
            "465\n",
            "496\n",
            "528\n",
            "561\n",
            "595\n",
            "630\n",
            "666\n",
            "703\n",
            "741\n",
            "780\n",
            "820\n",
            "861\n",
            "903\n",
            "946\n",
            "990\n",
            "1035\n",
            "1081\n",
            "1128\n",
            "1176\n",
            "1225\n",
            "1275\n",
            "1326\n",
            "1378\n",
            "1431\n",
            "1485\n",
            "1540\n",
            "1596\n",
            "1653\n",
            "1711\n",
            "1770\n",
            "1830\n",
            "1891\n",
            "1953\n",
            "2016\n",
            "2080\n",
            "2145\n",
            "2211\n",
            "2278\n",
            "2346\n",
            "2415\n",
            "2485\n",
            "2556\n",
            "2628\n",
            "2701\n",
            "2775\n",
            "2850\n",
            "2926\n",
            "3003\n",
            "3081\n",
            "3160\n",
            "3240\n",
            "3321\n",
            "3403\n",
            "3486\n",
            "3570\n",
            "3655\n",
            "3741\n",
            "3828\n",
            "3916\n",
            "4005\n",
            "4095\n",
            "4186\n",
            "4278\n",
            "4371\n",
            "4465\n",
            "4560\n",
            "4656\n",
            "4753\n",
            "4851\n",
            "4950\n",
            "5050\n"
          ]
        }
      ],
      "source": [
        "# sum of all number from 1 to 100\n",
        "\n",
        "sum=0\n",
        "for i in range(0,101):\n",
        "    sum+=i\n",
        "    print(sum)"
      ]
    },
    {
      "cell_type": "code",
      "source": [
        "# sum of all odd number\n",
        "sum=0\n",
        "for i in range(100):\n",
        "    if i%2==1:\n",
        "        sum+=i\n",
        "print(sum)"
      ],
      "metadata": {
        "colab": {
          "base_uri": "https://localhost:8080/"
        },
        "id": "ITuyQzzHvrkx",
        "outputId": "6a00ea0b-ef8d-470d-cce5-3bbeab57133c"
      },
      "execution_count": 2,
      "outputs": [
        {
          "output_type": "stream",
          "name": "stdout",
          "text": [
            "2500\n"
          ]
        }
      ]
    },
    {
      "cell_type": "code",
      "source": [
        "# factorial of given number\n",
        "n=10\n",
        "factorial = 1\n",
        "for i in range(1,n+1):\n",
        "    factorial=factorial*i\n",
        "    print(factorial)"
      ],
      "metadata": {
        "colab": {
          "base_uri": "https://localhost:8080/"
        },
        "id": "eaZniPtcv6Yo",
        "outputId": "502e8d44-73d5-46fd-bcac-f00adfee28d1"
      },
      "execution_count": null,
      "outputs": [
        {
          "output_type": "stream",
          "name": "stdout",
          "text": [
            "1\n",
            "2\n",
            "6\n",
            "24\n",
            "120\n",
            "720\n",
            "5040\n",
            "40320\n",
            "362880\n",
            "3628800\n"
          ]
        }
      ]
    },
    {
      "cell_type": "code",
      "source": [
        "# 1st 10 even number\n",
        "\n",
        "for i in range(0,10):\n",
        "    if i%2==0:\n",
        "        sum=i\n",
        "        print(sum)"
      ],
      "metadata": {
        "colab": {
          "base_uri": "https://localhost:8080/"
        },
        "id": "dJzANmE_v_w4",
        "outputId": "4b34f2a8-0695-4091-b44b-bce1e25f8f9c"
      },
      "execution_count": null,
      "outputs": [
        {
          "output_type": "stream",
          "name": "stdout",
          "text": [
            "0\n",
            "2\n",
            "4\n",
            "6\n",
            "8\n"
          ]
        }
      ]
    },
    {
      "cell_type": "code",
      "source": [
        "# maximum number in the list\n",
        "list = [1,9,50,32,0,11]\n",
        "print(\"maximum number in this list is:\",max(list))"
      ],
      "metadata": {
        "colab": {
          "base_uri": "https://localhost:8080/"
        },
        "id": "01ULTUUWwGY9",
        "outputId": "1a80e002-bf83-4a1b-b4c4-e7a802b270c5"
      },
      "execution_count": null,
      "outputs": [
        {
          "output_type": "stream",
          "name": "stdout",
          "text": [
            "maximum number in this list is: 50\n"
          ]
        }
      ]
    },
    {
      "cell_type": "code",
      "source": [
        "# count vowels in given words\n",
        "n = \"FRUITS\"\n",
        "vowels = [\"a\",\"e\",\"i\",\"o\",\"u\"]\n",
        "count=0\n",
        "for character in n:\n",
        "    if character in vowels:\n",
        "        count += 1\n",
        "        print(count)"
      ],
      "metadata": {
        "id": "B_Rkzu40wLls"
      },
      "execution_count": null,
      "outputs": []
    },
    {
      "cell_type": "code",
      "source": [
        "#square\n",
        "for row in range(5):\n",
        "    for col in range(5):\n",
        "        if(row in (0,4)):\n",
        "            print(\"*\",end=\" \")\n",
        "        elif (row in (1,2,3,4)) and (col in (0,4)):\n",
        "            print(\"*\",end=\" \")\n",
        "        elif (row in (0,2)) and (col in (0,2)):\n",
        "            print(\"A\",end=\" \")\n",
        "        else:\n",
        "            print(\" \",end=\" \")\n",
        "    print()"
      ],
      "metadata": {
        "colab": {
          "base_uri": "https://localhost:8080/"
        },
        "id": "TFbyRdXJwRh_",
        "outputId": "e6589b10-c9e3-4ce6-c93a-1035fbcf091f"
      },
      "execution_count": null,
      "outputs": [
        {
          "output_type": "stream",
          "name": "stdout",
          "text": [
            "* * * * * \n",
            "*       * \n",
            "*   A   * \n",
            "*       * \n",
            "* * * * * \n"
          ]
        }
      ]
    },
    {
      "cell_type": "code",
      "source": [
        "#triangle shape\n",
        "n = 5\n",
        "for i in range(n):\n",
        "    for j in range(i+1):\n",
        "        print(\"*\",end=\" \")\n",
        "    print(\"\\n\")"
      ],
      "metadata": {
        "colab": {
          "base_uri": "https://localhost:8080/"
        },
        "id": "7mF5obo4wXEn",
        "outputId": "2cc1c7f3-f530-469e-f9e1-d6e1d14478b0"
      },
      "execution_count": null,
      "outputs": [
        {
          "output_type": "stream",
          "name": "stdout",
          "text": [
            "* \n",
            "\n",
            "* * \n",
            "\n",
            "* * * \n",
            "\n",
            "* * * * \n",
            "\n",
            "* * * * * \n",
            "\n"
          ]
        }
      ]
    },
    {
      "cell_type": "code",
      "source": [
        "#remove duplicate from list\n",
        "list1 = [1,3,2,2,5,3,8,6]\n",
        "print(str(list1))\n",
        "list1 = (set(list1))\n",
        "print(str(list1))"
      ],
      "metadata": {
        "colab": {
          "base_uri": "https://localhost:8080/"
        },
        "id": "0jPm9nwlweCH",
        "outputId": "e4650de1-d7f8-49c1-a811-0bb936558d78"
      },
      "execution_count": null,
      "outputs": [
        {
          "output_type": "stream",
          "name": "stdout",
          "text": [
            "[1, 3, 2, 2, 5, 3, 8, 6]\n",
            "{1, 2, 3, 5, 6, 8}\n"
          ]
        }
      ]
    },
    {
      "cell_type": "code",
      "source": [],
      "metadata": {
        "id": "WIyypC-NoE9C"
      },
      "execution_count": null,
      "outputs": []
    }
  ]
}